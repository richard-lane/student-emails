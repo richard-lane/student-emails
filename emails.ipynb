{
 "cells": [
  {
   "cell_type": "markdown",
   "id": "d96fa758",
   "metadata": {},
   "source": [
    "Student Emails\n",
    "====\n",
    "\n",
    "Classify, learn stuff, etc."
   ]
  },
  {
   "cell_type": "code",
   "execution_count": 1,
   "id": "e2564517",
   "metadata": {
    "scrolled": false
   },
   "outputs": [],
   "source": [
    "import numpy as np\n",
    "import pandas as pd\n",
    "from sklearn import metrics\n",
    "import matplotlib.pyplot as plt\n",
    "from scipy.sparse import csr_matrix\n",
    "from sklearn.naive_bayes import MultinomialNB\n",
    "from sklearn.linear_model import SGDClassifier\n",
    "from sklearn.model_selection import cross_validate\n",
    "from sklearn.ensemble import RandomForestClassifier\n",
    "\n",
    "from libEmails import read"
   ]
  },
  {
   "cell_type": "markdown",
   "id": "0c3bc2f5",
   "metadata": {},
   "source": [
    "First we'll try to classify the email subject lines into their demand categories.\n",
    "\n",
    "We need to clean the data up a bit first; we need to decide how many emails per demand type to require (demand types rarer than this will be discarded):"
   ]
  },
  {
   "cell_type": "code",
   "execution_count": 2,
   "id": "d3fd96d8",
   "metadata": {
    "scrolled": false
   },
   "outputs": [],
   "source": [
    "sampling = \"undersample\""
   ]
  },
  {
   "cell_type": "code",
   "execution_count": 3,
   "id": "07e34079",
   "metadata": {
    "scrolled": false
   },
   "outputs": [
    {
     "name": "stdout",
     "output_type": "stream",
     "text": [
      "Dropping 66 NaN values of 7500\n",
      "{'Absence/Attendance': 257,\n",
      " 'Admissions': 30,\n",
      " 'Appeal': 164,\n",
      " 'Arrival': 29,\n",
      " 'Blackboard': 88,\n",
      " 'Certificates and Transcripts': 52,\n",
      " 'Course Information': 33,\n",
      " 'Course Transfer': 625,\n",
      " 'Degree Classification': 9,\n",
      " 'Document Request': 53,\n",
      " 'Exams and Assessments': 1858,\n",
      " 'Extension': 337,\n",
      " 'Extenuating Circumstances': 104,\n",
      " 'Graduation': 7,\n",
      " 'Miscellaneous': 1362,\n",
      " 'Online learning ': 229,\n",
      " 'Personal Tutoring ': 96,\n",
      " 'Placement': 14,\n",
      " 'Plagiarism': 15,\n",
      " 'Registration': 194,\n",
      " 'Student Finance': 48,\n",
      " 'Student Support and Wellbeing': 161,\n",
      " 'Student Visa': 39,\n",
      " 'Study Skills': 7,\n",
      " 'Supplementary Year ': 66,\n",
      " 'Suspension': 268,\n",
      " 'Timetable': 370,\n",
      " 'Tutorial': 19,\n",
      " 'Unit Evaluation': 10,\n",
      " 'Unit change/choices': 805,\n",
      " 'Welcome Week': 15,\n",
      " 'Withdrawal': 25,\n",
      " 'Year Abroad': 45}\n",
      "Following categories will be removed; fewer than the minimum (75) found:\n",
      "{'Admissions': 30,\n",
      " 'Arrival': 29,\n",
      " 'Certificates and Transcripts': 52,\n",
      " 'Course Information': 33,\n",
      " 'Degree Classification': 9,\n",
      " 'Document Request': 53,\n",
      " 'Graduation': 7,\n",
      " 'Placement': 14,\n",
      " 'Plagiarism': 15,\n",
      " 'Student Finance': 48,\n",
      " 'Student Visa': 39,\n",
      " 'Study Skills': 7,\n",
      " 'Supplementary Year ': 66,\n",
      " 'Tutorial': 19,\n",
      " 'Unit Evaluation': 10,\n",
      " 'Welcome Week': 15,\n",
      " 'Withdrawal': 25,\n",
      " 'Year Abroad': 45}\n",
      "Label counts in training set after resampling (undersample):\n",
      "{'Absence/Attendance': 66,\n",
      " 'Appeal': 66,\n",
      " 'Blackboard': 66,\n",
      " 'Course Transfer': 66,\n",
      " 'Exams and Assessments': 66,\n",
      " 'Extension': 66,\n",
      " 'Extenuating Circumstances': 66,\n",
      " 'Miscellaneous': 66,\n",
      " 'Online learning ': 66,\n",
      " 'Personal Tutoring ': 66,\n",
      " 'Registration': 66,\n",
      " 'Student Support and Wellbeing': 66,\n",
      " 'Suspension': 66,\n",
      " 'Timetable': 66,\n",
      " 'Unit change/choices': 66}\n"
     ]
    }
   ],
   "source": [
    "min_num_labels = 75\n",
    "\n",
    "(\n",
    "    (X_train, categories_train),\n",
    "    (X_test, categories_test),\n",
    "    vectorizer,\n",
    ") = read.read_email_subjects(\n",
    "    min_num_labels, verbose=True, sampling=sampling, return_vectorizer=True\n",
    ")"
   ]
  },
  {
   "cell_type": "markdown",
   "id": "dee7d3a7",
   "metadata": {},
   "source": [
    "Now we have a bag of words (`X_train`) and some labels (`categories_train`); we can use these to train a classifier:"
   ]
  },
  {
   "cell_type": "code",
   "execution_count": 4,
   "id": "75826b39",
   "metadata": {
    "scrolled": false
   },
   "outputs": [],
   "source": [
    "def classifiers():\n",
    "    return [\n",
    "        MultinomialNB(),\n",
    "        RandomForestClassifier(),\n",
    "        SGDClassifier(loss=\"modified_huber\", penalty=\"l1\", max_iter=100, alpha=0.0001),\n",
    "    ]\n",
    "\n",
    "\n",
    "subject_clfs = classifiers()\n",
    "for c in subject_clfs:\n",
    "    c.fit(X_train, categories_train)"
   ]
  },
  {
   "cell_type": "code",
   "execution_count": 5,
   "id": "2875e2ed",
   "metadata": {
    "scrolled": false
   },
   "outputs": [
    {
     "name": "stdout",
     "output_type": "stream",
     "text": [
      "MultinomialNB:\n",
      "                               precision    recall  f1-score   support\n",
      "\n",
      "           Absence/Attendance       0.53      0.85      0.65        55\n",
      "                       Appeal       0.40      1.00      0.57        29\n",
      "                   Blackboard       0.23      1.00      0.37        19\n",
      "              Course Transfer       0.82      0.94      0.88       154\n",
      "        Exams and Assessments       0.92      0.62      0.74       463\n",
      "                    Extension       0.73      0.96      0.83        85\n",
      "    Extenuating Circumstances       0.32      1.00      0.48        23\n",
      "                Miscellaneous       0.80      0.35      0.49       337\n",
      "             Online learning        0.64      0.97      0.77        64\n",
      "           Personal Tutoring        0.79      1.00      0.88        30\n",
      "                 Registration       0.73      0.89      0.81        65\n",
      "Student Support and Wellbeing       0.71      0.89      0.79        45\n",
      "                   Suspension       0.84      0.96      0.89        70\n",
      "                    Timetable       0.75      0.92      0.83        85\n",
      "          Unit change/choices       0.85      0.86      0.86       202\n",
      "\n",
      "                     accuracy                           0.73      1726\n",
      "                    macro avg       0.67      0.88      0.72      1726\n",
      "                 weighted avg       0.80      0.73      0.73      1726\n",
      "\n",
      "Balanced accuracy 0.4980+-0.0326\n",
      "-------------------------------------------------------------------------------\n",
      "RandomForestClassifier:\n",
      "                               precision    recall  f1-score   support\n",
      "\n",
      "           Absence/Attendance       0.87      0.87      0.87        55\n",
      "                       Appeal       0.91      1.00      0.95        29\n",
      "                   Blackboard       0.73      1.00      0.84        19\n",
      "              Course Transfer       0.92      0.93      0.92       154\n",
      "        Exams and Assessments       0.97      0.70      0.81       463\n",
      "                    Extension       0.99      1.00      0.99        85\n",
      "    Extenuating Circumstances       0.92      0.96      0.94        23\n",
      "                Miscellaneous       0.64      0.83      0.72       337\n",
      "             Online learning        0.85      0.98      0.91        64\n",
      "           Personal Tutoring        0.97      1.00      0.98        30\n",
      "                 Registration       0.84      0.83      0.84        65\n",
      "Student Support and Wellbeing       0.58      0.84      0.68        45\n",
      "                   Suspension       0.96      0.93      0.94        70\n",
      "                    Timetable       0.87      0.89      0.88        85\n",
      "          Unit change/choices       0.94      0.84      0.89       202\n",
      "\n",
      "                     accuracy                           0.84      1726\n",
      "                    macro avg       0.86      0.91      0.88      1726\n",
      "                 weighted avg       0.86      0.84      0.84      1726\n",
      "\n",
      "Balanced accuracy 0.8017+-0.0343\n",
      "-------------------------------------------------------------------------------\n",
      "SGDClassifier:\n",
      "                               precision    recall  f1-score   support\n",
      "\n",
      "           Absence/Attendance       0.74      0.91      0.81        55\n",
      "                       Appeal       0.91      1.00      0.95        29\n",
      "                   Blackboard       0.86      1.00      0.93        19\n",
      "              Course Transfer       0.91      0.90      0.90       154\n",
      "        Exams and Assessments       0.94      0.75      0.83       463\n",
      "                    Extension       0.98      0.98      0.98        85\n",
      "    Extenuating Circumstances       0.65      0.96      0.77        23\n",
      "                Miscellaneous       0.76      0.62      0.68       337\n",
      "             Online learning        0.85      0.91      0.88        64\n",
      "           Personal Tutoring        0.38      1.00      0.56        30\n",
      "                 Registration       0.75      0.91      0.82        65\n",
      "Student Support and Wellbeing       0.35      0.89      0.50        45\n",
      "                   Suspension       0.97      0.96      0.96        70\n",
      "                    Timetable       0.78      0.84      0.81        85\n",
      "          Unit change/choices       0.87      0.79      0.83       202\n",
      "\n",
      "                     accuracy                           0.80      1726\n",
      "                    macro avg       0.78      0.89      0.81      1726\n",
      "                 weighted avg       0.84      0.80      0.81      1726\n",
      "\n",
      "Balanced accuracy 0.8322+-0.0355\n",
      "-------------------------------------------------------------------------------\n"
     ]
    }
   ],
   "source": [
    "def print_info(clf, values, labels):\n",
    "    print(f\"{type(clf).__name__}:\")\n",
    "    print(metrics.classification_report(labels, clf.predict(values)))\n",
    "    cv_test = cross_validate(\n",
    "        clf,\n",
    "        values,\n",
    "        labels,\n",
    "        scoring=\"balanced_accuracy\",\n",
    "    )\n",
    "    print(\n",
    "        f\"Balanced accuracy {cv_test['test_score'].mean():.4f}+-{cv_test['test_score'].std():.4f}\\n{'-' * 79}\"\n",
    "    )\n",
    "\n",
    "\n",
    "# Print a classification report for the test data\n",
    "for c in subject_clfs:\n",
    "    print_info(c, X_test, categories_test)"
   ]
  },
  {
   "cell_type": "markdown",
   "id": "6594e875",
   "metadata": {},
   "source": [
    "We can also run the classifier on arbitrary strings:"
   ]
  },
  {
   "cell_type": "code",
   "execution_count": 6,
   "id": "5e1f977a",
   "metadata": {
    "scrolled": false
   },
   "outputs": [],
   "source": [
    "# Just some functions for plotting\n",
    "def _predict(clfs: tuple, X: csr_matrix):\n",
    "    \"\"\"\n",
    "    Predict the label for a sparse matrix repr of a bag of words using a tuple of classifiers\n",
    "\n",
    "    Returns (class names, probabilities) for each classifier\n",
    "\n",
    "    \"\"\"\n",
    "    # Could use a zip expression here but this is nicer\n",
    "    return [c.predict(X)[0] for c in clfs], [c.predict_proba(X)[0] for c in clfs]\n",
    "\n",
    "\n",
    "def _plot_bars(ax: plt.Axes, class_probabilities: list, all_classes: list):\n",
    "    \"\"\"\n",
    "    Plot a bar chart of the classification probabilities for each classifier\n",
    "\n",
    "    \"\"\"\n",
    "    width = 1 / (len(class_probabilities) + 1)\n",
    "    x = np.arange(len(class_probabilities[0]))\n",
    "    for i, p in enumerate(class_probabilities):\n",
    "        ax.barh(x + i * width, p, height=width, tick_label=all_classes)\n",
    "    ax.set_xlim(0.0, 1.1)\n",
    "\n",
    "\n",
    "def _plot_info(\n",
    "    ax: plt.Axes, classifier_names: list, predicted_classes: list, confidence\n",
    "):\n",
    "    \"\"\"\n",
    "    Print info about the classifiers on a plot\n",
    "\n",
    "    \"\"\"\n",
    "    ax.axis(\"off\")\n",
    "    matplotlib_colours = plt.rcParams[\"axes.prop_cycle\"].by_key()[\"color\"]\n",
    "    for i, (c, name, pred_class, percent) in enumerate(\n",
    "        zip(matplotlib_colours, classifier_names, predicted_classes, confidence)\n",
    "    ):\n",
    "        y = 0.2 + 0.15 * i\n",
    "        ax.text(\n",
    "            0.2,\n",
    "            y,\n",
    "            f\"{name}:{' ' * 4}{pred_class}, {100 * percent:3.1f}%\",\n",
    "            color=c,\n",
    "            fontsize=16,\n",
    "        )"
   ]
  },
  {
   "cell_type": "code",
   "execution_count": 7,
   "id": "94d5765d",
   "metadata": {
    "scrolled": false
   },
   "outputs": [
    {
     "name": "stdout",
     "output_type": "stream",
     "text": [
      "changing my course\n"
     ]
    },
    {
     "data": {
      "image/png": "[encoded data removed]",
      "text/plain": [
       "<Figure size 720x720 with 2 Axes>"
      ]
     },
     "metadata": {
      "needs_background": "light"
     },
     "output_type": "display_data"
    },
    {
     "name": "stdout",
     "output_type": "stream",
     "text": [
      "issue with tutor\n"
     ]
    },
    {
     "data": {
      "image/png": "[encoded data removed]",
      "text/plain": [
       "<Figure size 720x720 with 2 Axes>"
      ]
     },
     "metadata": {
      "needs_background": "light"
     },
     "output_type": "display_data"
    },
    {
     "name": "stdout",
     "output_type": "stream",
     "text": [
      "\n"
     ]
    }
   ],
   "source": [
    "all_classes = np.unique(categories_train)\n",
    "s = input()\n",
    "while s:\n",
    "    fig, ax = plt.subplots(1, 2, figsize=(10, 10))\n",
    "    X: csr_matrix = vectorizer.transform([s])\n",
    "\n",
    "    predicted_labels, probabilities = _predict(subject_clfs, X)\n",
    "\n",
    "    confidence = [np.max(x) for x in probabilities]\n",
    "\n",
    "    _plot_bars(ax[0], probabilities, all_classes)\n",
    "    _plot_info(\n",
    "        ax[1], [type(c).__name__ for c in subject_clfs], predicted_labels, confidence\n",
    "    )\n",
    "    plt.show()\n",
    "    s = input()"
   ]
  },
  {
   "cell_type": "markdown",
   "id": "7503cae3",
   "metadata": {},
   "source": [
    "We can also attempt to classify the email bodies similarly; we will put the email body and subject line into a single bag of words.\n",
    "\n",
    "We will need to use a smaller minimum since this dataset only contains 200 emails."
   ]
  },
  {
   "cell_type": "code",
   "execution_count": 8,
   "id": "5e007d90",
   "metadata": {
    "scrolled": false
   },
   "outputs": [
    {
     "name": "stdout",
     "output_type": "stream",
     "text": [
      "EmailBody:\tDropping 1 NaN values of 200\n",
      "Subject:\tDropping 0 NaN values of 200\n",
      "{'Academic': 10,\n",
      " 'Attendance': 11,\n",
      " 'Awards/Graduation Certificate': 8,\n",
      " 'Change of Circumstances': 5,\n",
      " 'Course Transfer': 8,\n",
      " 'Dissertations/Coursework': 29,\n",
      " 'Exams/Resits': 41,\n",
      " 'Extenuating Circumstances': 11,\n",
      " 'Funding': 1,\n",
      " 'General': 4,\n",
      " 'Late Coursework/Penalties': 3,\n",
      " 'Marks & Feedback': 9,\n",
      " 'Misc Enquiry': 7,\n",
      " 'Misc Student Data/Process Errors': 3,\n",
      " 'Online Learning': 12,\n",
      " 'Plagiarism & Collusion': 2,\n",
      " 'Progression': 2,\n",
      " 'Student Status Letter': 2,\n",
      " 'Timetables': 5,\n",
      " 'Transcripts': 3,\n",
      " 'Tuition / Accommodation Fees': 2,\n",
      " 'Unit Choices': 18,\n",
      " 'University Email Account': 1,\n",
      " 'Visa': 2}\n",
      "Following categories will be removed; fewer than the minimum (13) found:\n",
      "{'Academic': 10,\n",
      " 'Attendance': 11,\n",
      " 'Awards/Graduation Certificate': 8,\n",
      " 'Change of Circumstances': 5,\n",
      " 'Course Transfer': 8,\n",
      " 'Extenuating Circumstances': 11,\n",
      " 'Funding': 1,\n",
      " 'General': 4,\n",
      " 'Late Coursework/Penalties': 3,\n",
      " 'Marks & Feedback': 9,\n",
      " 'Misc Enquiry': 7,\n",
      " 'Misc Student Data/Process Errors': 3,\n",
      " 'Online Learning': 12,\n",
      " 'Plagiarism & Collusion': 2,\n",
      " 'Progression': 2,\n",
      " 'Student Status Letter': 2,\n",
      " 'Timetables': 5,\n",
      " 'Transcripts': 3,\n",
      " 'Tuition / Accommodation Fees': 2,\n",
      " 'University Email Account': 1,\n",
      " 'Visa': 2}\n",
      "Label counts in training set after resampling (undersample):\n",
      "{'Dissertations/Coursework': 12, 'Exams/Resits': 12, 'Unit Choices': 12}\n"
     ]
    }
   ],
   "source": [
    "min_num_labels = 13\n",
    "(X_train, categories_train), (X_test, categories_test) = read.read_email_body(\n",
    "    min_num_labels, verbose=True, sampling=sampling\n",
    ")"
   ]
  },
  {
   "cell_type": "code",
   "execution_count": 9,
   "id": "661f2742",
   "metadata": {
    "scrolled": false
   },
   "outputs": [],
   "source": [
    "body_clfs = [SGDClassifier()]\n",
    "for c in body_clfs:\n",
    "    c.fit(X_train, categories_train)"
   ]
  },
  {
   "cell_type": "code",
   "execution_count": 10,
   "id": "606c74ff",
   "metadata": {
    "scrolled": false
   },
   "outputs": [
    {
     "name": "stdout",
     "output_type": "stream",
     "text": [
      "SGDClassifier:\n",
      "                          precision    recall  f1-score   support\n",
      "\n",
      "Dissertations/Coursework       1.00      0.90      0.95        10\n",
      "            Exams/Resits       0.88      1.00      0.93         7\n",
      "            Unit Choices       1.00      1.00      1.00         6\n",
      "\n",
      "                accuracy                           0.96        23\n",
      "               macro avg       0.96      0.97      0.96        23\n",
      "            weighted avg       0.96      0.96      0.96        23\n",
      "\n",
      "Balanced accuracy 0.8667+-0.1247\n",
      "-------------------------------------------------------------------------------\n"
     ]
    }
   ],
   "source": [
    "for c in body_clfs:\n",
    "    print_info(c, X_test, categories_test)"
   ]
  }
 ],
 "metadata": {
  "kernelspec": {
   "display_name": "Python 3 (ipykernel)",
   "language": "python",
   "name": "python3"
  },
  "language_info": {
   "codemirror_mode": {
    "name": "ipython",
    "version": 3
   },
   "file_extension": ".py",
   "mimetype": "text/x-python",
   "name": "python",
   "nbconvert_exporter": "python",
   "pygments_lexer": "ipython3",
   "version": "3.8.5"
  }
 },
 "nbformat": 4,
 "nbformat_minor": 5
}
