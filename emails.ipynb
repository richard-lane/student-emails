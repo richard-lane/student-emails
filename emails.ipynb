{
 "cells": [
  {
   "cell_type": "markdown",
   "id": "d96fa758",
   "metadata": {},
   "source": [
    "Student Emails\n",
    "====\n",
    "\n",
    "Classify, learn stuff, etc."
   ]
  },
  {
   "cell_type": "code",
   "execution_count": 1,
   "id": "e2564517",
   "metadata": {},
   "outputs": [],
   "source": [
    "import numpy as np\n",
    "import pandas as pd\n",
    "from sklearn import metrics\n",
    "from scipy.sparse import csr_matrix\n",
    "from sklearn.naive_bayes import MultinomialNB\n",
    "from sklearn.linear_model import SGDClassifier\n",
    "from sklearn.model_selection import cross_validate\n",
    "\n",
    "\n",
    "from libEmails import read"
   ]
  },
  {
   "cell_type": "markdown",
   "id": "0c3bc2f5",
   "metadata": {},
   "source": [
    "First we'll try to classify the email subject lines into their demand categories.\n",
    "\n",
    "We need to clean the data up a bit first; we need to decide how many emails per demand type to require (demand types rarer than this will be discarded):"
   ]
  },
  {
   "cell_type": "code",
   "execution_count": 2,
   "id": "d3fd96d8",
   "metadata": {},
   "outputs": [],
   "source": [
    "sampling = \"undersample\""
   ]
  },
  {
   "cell_type": "code",
   "execution_count": 3,
   "id": "07e34079",
   "metadata": {},
   "outputs": [
    {
     "name": "stdout",
     "output_type": "stream",
     "text": [
      "Dropping 66 NaN values of 7500\n",
      "Following categories will be removed; fewer than the minimum (75) found:\n",
      "{'Admissions': 30,\n",
      " 'Arrival': 29,\n",
      " 'Certificates and Transcripts': 52,\n",
      " 'Course Information': 33,\n",
      " 'Degree Classification': 9,\n",
      " 'Document Request': 53,\n",
      " 'Graduation': 7,\n",
      " 'Placement': 14,\n",
      " 'Plagiarism': 15,\n",
      " 'Student Finance': 48,\n",
      " 'Student Visa': 39,\n",
      " 'Study Skills': 7,\n",
      " 'Supplementary Year ': 66,\n",
      " 'Tutorial': 19,\n",
      " 'Unit Evaluation': 10,\n",
      " 'Welcome Week': 15,\n",
      " 'Withdrawal': 25,\n",
      " 'Year Abroad': 45}\n",
      "Label counts in training set after resampling (undersample):\n",
      "{'Absence/Attendance': 66,\n",
      " 'Appeal': 66,\n",
      " 'Blackboard': 66,\n",
      " 'Course Transfer': 66,\n",
      " 'Exams and Assessments': 66,\n",
      " 'Extension': 66,\n",
      " 'Extenuating Circumstances': 66,\n",
      " 'Miscellaneous': 66,\n",
      " 'Online learning ': 66,\n",
      " 'Personal Tutoring ': 66,\n",
      " 'Registration': 66,\n",
      " 'Student Support and Wellbeing': 66,\n",
      " 'Suspension': 66,\n",
      " 'Timetable': 66,\n",
      " 'Unit change/choices': 66}\n"
     ]
    }
   ],
   "source": [
    "min_num_labels = 75\n",
    "\n",
    "(\n",
    "    (X_train, categories_train),\n",
    "    (X_test, categories_test),\n",
    "    vectorizer,\n",
    ") = read.read_email_subjects(\n",
    "    min_num_labels, verbose=True, sampling=sampling, return_vectorizer=True\n",
    ")"
   ]
  },
  {
   "cell_type": "markdown",
   "id": "dee7d3a7",
   "metadata": {},
   "source": [
    "Now we have a bag of words (`X_train`) and some labels (`categories_train`); we can use these to train a classifier:"
   ]
  },
  {
   "cell_type": "code",
   "execution_count": 4,
   "id": "75826b39",
   "metadata": {},
   "outputs": [],
   "source": [
    "def classifiers():\n",
    "    return [MultinomialNB(), SGDClassifier(loss=\"modified_huber\", penalty=\"l1\", max_iter=100, alpha=0.0001)]\n",
    "\n",
    "\n",
    "subject_clfs = classifiers()\n",
    "for c in subject_clfs:\n",
    "    c.fit(X_train, categories_train)"
   ]
  },
  {
   "cell_type": "code",
   "execution_count": 5,
   "id": "2875e2ed",
   "metadata": {},
   "outputs": [
    {
     "name": "stdout",
     "output_type": "stream",
     "text": [
      "MultinomialNB:\n",
      "                               precision    recall  f1-score   support\n",
      "\n",
      "           Absence/Attendance       0.53      0.85      0.65        55\n",
      "                       Appeal       0.40      1.00      0.57        29\n",
      "                   Blackboard       0.23      1.00      0.37        19\n",
      "              Course Transfer       0.82      0.94      0.88       154\n",
      "        Exams and Assessments       0.92      0.62      0.74       463\n",
      "                    Extension       0.73      0.96      0.83        85\n",
      "    Extenuating Circumstances       0.32      1.00      0.48        23\n",
      "                Miscellaneous       0.80      0.35      0.49       337\n",
      "             Online learning        0.64      0.97      0.77        64\n",
      "           Personal Tutoring        0.79      1.00      0.88        30\n",
      "                 Registration       0.73      0.89      0.81        65\n",
      "Student Support and Wellbeing       0.71      0.89      0.79        45\n",
      "                   Suspension       0.84      0.96      0.89        70\n",
      "                    Timetable       0.75      0.92      0.83        85\n",
      "          Unit change/choices       0.85      0.86      0.86       202\n",
      "\n",
      "                     accuracy                           0.73      1726\n",
      "                    macro avg       0.67      0.88      0.72      1726\n",
      "                 weighted avg       0.80      0.73      0.73      1726\n",
      "\n",
      "Balanced accuracy 0.4980+-0.0326\n",
      "-------------------------------------------------------------------------------\n",
      "SGDClassifier:\n",
      "                               precision    recall  f1-score   support\n",
      "\n",
      "           Absence/Attendance       0.55      0.87      0.68        55\n",
      "                       Appeal       0.91      1.00      0.95        29\n",
      "                   Blackboard       0.60      0.95      0.73        19\n",
      "              Course Transfer       0.93      0.90      0.91       154\n",
      "        Exams and Assessments       0.92      0.72      0.81       463\n",
      "                    Extension       0.88      0.99      0.93        85\n",
      "    Extenuating Circumstances       0.61      0.96      0.75        23\n",
      "                Miscellaneous       0.74      0.64      0.68       337\n",
      "             Online learning        0.81      0.78      0.79        64\n",
      "           Personal Tutoring        0.41      1.00      0.58        30\n",
      "                 Registration       0.71      0.92      0.81        65\n",
      "Student Support and Wellbeing       0.51      0.91      0.66        45\n",
      "                   Suspension       0.96      0.96      0.96        70\n",
      "                    Timetable       0.88      0.94      0.91        85\n",
      "          Unit change/choices       0.90      0.82      0.86       202\n",
      "\n",
      "                     accuracy                           0.80      1726\n",
      "                    macro avg       0.75      0.89      0.80      1726\n",
      "                 weighted avg       0.83      0.80      0.80      1726\n",
      "\n",
      "Balanced accuracy 0.8321+-0.0310\n",
      "-------------------------------------------------------------------------------\n"
     ]
    }
   ],
   "source": [
    "def print_info(clf, values, labels):\n",
    "    print(f\"{type(clf).__name__}:\")\n",
    "    print(metrics.classification_report(labels, clf.predict(values)))\n",
    "    cv_test = cross_validate(\n",
    "        clf,\n",
    "        X_test,\n",
    "        categories_test,\n",
    "        scoring=\"balanced_accuracy\",\n",
    "    )\n",
    "    print(\n",
    "        f\"Balanced accuracy {cv_test['test_score'].mean():.4f}+-{cv_test['test_score'].std():.4f}\\n{'-' * 79}\"\n",
    "    )\n",
    "\n",
    "\n",
    "# Print a classification report for the test data\n",
    "for c in subject_clfs:\n",
    "    print_info(c, X_test, categories_test)"
   ]
  },
  {
   "cell_type": "markdown",
   "id": "7503cae3",
   "metadata": {},
   "source": [
    "We can also attempt to classify the email bodies similarly; we will put the email body and subject line into a single bag of words.\n",
    "\n",
    "We will need to use a smaller minimum since this dataset only contains 200 emails."
   ]
  },
  {
   "cell_type": "code",
   "execution_count": 6,
   "id": "5e007d90",
   "metadata": {},
   "outputs": [
    {
     "name": "stdout",
     "output_type": "stream",
     "text": [
      "EmailBody:\tDropping 1 NaN values of 200\n",
      "Subject:\tDropping 0 NaN values of 200\n",
      "Following categories will be removed; fewer than the minimum (13) found:\n",
      "{'Academic': 10,\n",
      " 'Attendance': 11,\n",
      " 'Awards/Graduation Certificate': 8,\n",
      " 'Change of Circumstances': 5,\n",
      " 'Course Transfer': 8,\n",
      " 'Extenuating Circumstances': 11,\n",
      " 'Funding': 1,\n",
      " 'General': 4,\n",
      " 'Late Coursework/Penalties': 3,\n",
      " 'Marks & Feedback': 9,\n",
      " 'Misc Enquiry': 7,\n",
      " 'Misc Student Data/Process Errors': 3,\n",
      " 'Online Learning': 12,\n",
      " 'Plagiarism & Collusion': 2,\n",
      " 'Progression': 2,\n",
      " 'Student Status Letter': 2,\n",
      " 'Timetables': 5,\n",
      " 'Transcripts': 3,\n",
      " 'Tuition / Accommodation Fees': 2,\n",
      " 'University Email Account': 1,\n",
      " 'Visa': 2}\n",
      "Label counts in training set after resampling (undersample):\n",
      "{'Dissertations/Coursework': 12, 'Exams/Resits': 12, 'Unit Choices': 12}\n"
     ]
    }
   ],
   "source": [
    "min_num_labels = 13\n",
    "(X_train, categories_train), (X_test, categories_test) = read.read_email_body(\n",
    "    min_num_labels, verbose=True, sampling=sampling\n",
    ")"
   ]
  },
  {
   "cell_type": "code",
   "execution_count": 7,
   "id": "661f2742",
   "metadata": {},
   "outputs": [],
   "source": [
    "body_clfs = [MultinomialNB(), SGDClassifier()]\n",
    "for c in body_clfs:\n",
    "    c.fit(X_train, categories_train)"
   ]
  },
  {
   "cell_type": "code",
   "execution_count": 8,
   "id": "606c74ff",
   "metadata": {},
   "outputs": [
    {
     "name": "stdout",
     "output_type": "stream",
     "text": [
      "MultinomialNB:\n",
      "                          precision    recall  f1-score   support\n",
      "\n",
      "Dissertations/Coursework       1.00      1.00      1.00        10\n",
      "            Exams/Resits       1.00      1.00      1.00         7\n",
      "            Unit Choices       1.00      1.00      1.00         6\n",
      "\n",
      "                accuracy                           1.00        23\n",
      "               macro avg       1.00      1.00      1.00        23\n",
      "            weighted avg       1.00      1.00      1.00        23\n",
      "\n",
      "Balanced accuracy 0.8667+-0.1247\n",
      "-------------------------------------------------------------------------------\n",
      "SGDClassifier:\n",
      "                          precision    recall  f1-score   support\n",
      "\n",
      "Dissertations/Coursework       0.91      1.00      0.95        10\n",
      "            Exams/Resits       1.00      0.86      0.92         7\n",
      "            Unit Choices       1.00      1.00      1.00         6\n",
      "\n",
      "                accuracy                           0.96        23\n",
      "               macro avg       0.97      0.95      0.96        23\n",
      "            weighted avg       0.96      0.96      0.96        23\n",
      "\n",
      "Balanced accuracy 0.9000+-0.1333\n",
      "-------------------------------------------------------------------------------\n"
     ]
    }
   ],
   "source": [
    "for c in body_clfs:\n",
    "    print_info(c, X_test, categories_test)"
   ]
  },
  {
   "cell_type": "markdown",
   "id": "6594e875",
   "metadata": {},
   "source": [
    "We can also run the classifier on arbitrary strings:"
   ]
  },
  {
   "cell_type": "code",
   "execution_count": null,
   "id": "94d5765d",
   "metadata": {},
   "outputs": [
    {
     "name": "stdout",
     "output_type": "stream",
     "text": [
      "what time is it\n",
      "MultinomialNB:\n",
      "\tExams and Assessments\n",
      "\t0.0616 0.0606 0.0881 0.0799 0.0984 0.0609 0.0608 0.0616 0.0612 0.0616 0.0609 0.0612 0.0610 0.0613 0.0609\n",
      "-------------------------------------------------------------------------------\n",
      "SGDClassifier:\n",
      "\tExams and Assessments\n",
      "\t0.0000 0.0000 0.0000 0.2367 0.5338 0.0000 0.0000 0.1792 0.0000 0.0000 0.0000 0.0502 0.0000 0.0000 0.0000\n",
      "-------------------------------------------------------------------------------\n",
      "dropping out of my studies\n",
      "MultinomialNB:\n",
      "\tSuspension\n",
      "\t0.0540 0.0528 0.0525 0.0665 0.0529 0.0532 0.0530 0.0540 0.0890 0.0539 0.0656 0.0535 0.1924 0.0536 0.0531\n",
      "-------------------------------------------------------------------------------\n",
      "SGDClassifier:\n",
      "\tSuspension\n",
      "\t0.0000 0.0000 0.0000 0.4981 0.0000 0.0000 0.0000 0.0000 0.0000 0.0000 0.0000 0.0000 0.5019 0.0000 0.0000\n",
      "-------------------------------------------------------------------------------\n",
      "blackboard login problem\n",
      "MultinomialNB:\n",
      "\tBlackboard\n",
      "\t0.0423 0.0414 0.3299 0.0418 0.0613 0.0417 0.0415 0.0424 0.0419 0.0423 0.0653 0.0595 0.0417 0.0655 0.0416\n",
      "-------------------------------------------------------------------------------\n",
      "SGDClassifier:\n",
      "\tBlackboard\n",
      "\t0.0000 0.0000 1.0000 0.0000 0.0000 0.0000 0.0000 0.0000 0.0000 0.0000 0.0000 0.0000 0.0000 0.0000 0.0000\n",
      "-------------------------------------------------------------------------------\n"
     ]
    }
   ],
   "source": [
    "s = input()\n",
    "while s:\n",
    "    X: csr_matrix = vectorizer.transform([s])\n",
    "    for c in subject_clfs:\n",
    "        (predicted_class,) = c.predict(X)\n",
    "        probs = c.predict_proba(X)\n",
    "        print(\n",
    "            f\"{type(c).__name__}:\\n\\t{predicted_class}\\n\\t{' '.join(('{:.4f}'.format(x) for x in probs[0]))}\"\n",
    "        )\n",
    "        print(\"-\" * 79)\n",
    "    s = input()"
   ]
  },
  {
   "cell_type": "code",
   "execution_count": null,
   "id": "52b675b4",
   "metadata": {},
   "outputs": [],
   "source": []
  }
 ],
 "metadata": {
  "kernelspec": {
   "display_name": "Python 3 (ipykernel)",
   "language": "python",
   "name": "python3"
  },
  "language_info": {
   "codemirror_mode": {
    "name": "ipython",
    "version": 3
   },
   "file_extension": ".py",
   "mimetype": "text/x-python",
   "name": "python",
   "nbconvert_exporter": "python",
   "pygments_lexer": "ipython3",
   "version": "3.8.5"
  }
 },
 "nbformat": 4,
 "nbformat_minor": 5
}
