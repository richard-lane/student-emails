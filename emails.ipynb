{
 "cells": [
  {
   "cell_type": "markdown",
   "id": "d96fa758",
   "metadata": {},
   "source": [
    "Student Emails\n",
    "====\n",
    "\n",
    "Classify, learn stuff, etc."
   ]
  },
  {
   "cell_type": "code",
   "execution_count": null,
   "id": "e2564517",
   "metadata": {},
   "outputs": [],
   "source": [
    "import numpy as np\n",
    "import pandas as pd\n",
    "from sklearn import metrics\n",
    "from scipy.sparse import csr_matrix\n",
    "from sklearn.naive_bayes import MultinomialNB\n",
    "from sklearn.linear_model import SGDClassifier\n",
    "from sklearn.model_selection import cross_validate\n",
    "from sklearn.ensemble import RandomForestClassifier\n",
    "\n",
    "from libEmails import read"
   ]
  },
  {
   "cell_type": "markdown",
   "id": "0c3bc2f5",
   "metadata": {},
   "source": [
    "First we'll try to classify the email subject lines into their demand categories.\n",
    "\n",
    "We need to clean the data up a bit first; we need to decide how many emails per demand type to require (demand types rarer than this will be discarded):"
   ]
  },
  {
   "cell_type": "code",
   "execution_count": null,
   "id": "d3fd96d8",
   "metadata": {},
   "outputs": [],
   "source": [
    "sampling = \"undersample\""
   ]
  },
  {
   "cell_type": "code",
   "execution_count": null,
   "id": "07e34079",
   "metadata": {},
   "outputs": [],
   "source": [
    "min_num_labels = 75\n",
    "\n",
    "(\n",
    "    (X_train, categories_train),\n",
    "    (X_test, categories_test),\n",
    "    vectorizer,\n",
    ") = read.read_email_subjects(\n",
    "    min_num_labels, verbose=True, sampling=sampling, return_vectorizer=True\n",
    ")"
   ]
  },
  {
   "cell_type": "markdown",
   "id": "dee7d3a7",
   "metadata": {},
   "source": [
    "Now we have a bag of words (`X_train`) and some labels (`categories_train`); we can use these to train a classifier:"
   ]
  },
  {
   "cell_type": "code",
   "execution_count": null,
   "id": "75826b39",
   "metadata": {},
   "outputs": [],
   "source": [
    "def classifiers():\n",
    "    return [\n",
    "        MultinomialNB(),\n",
    "        RandomForestClassifier(),\n",
    "        SGDClassifier(loss=\"modified_huber\", penalty=\"l1\", max_iter=100, alpha=0.0001),\n",
    "    ]\n",
    "\n",
    "\n",
    "subject_clfs = classifiers()\n",
    "for c in subject_clfs:\n",
    "    c.fit(X_train, categories_train)"
   ]
  },
  {
   "cell_type": "code",
   "execution_count": null,
   "id": "2875e2ed",
   "metadata": {},
   "outputs": [],
   "source": [
    "def print_info(clf, values, labels):\n",
    "    print(f\"{type(clf).__name__}:\")\n",
    "    print(metrics.classification_report(labels, clf.predict(values)))\n",
    "    cv_test = cross_validate(\n",
    "        clf,\n",
    "        values,\n",
    "        labels,\n",
    "        scoring=\"balanced_accuracy\",\n",
    "    )\n",
    "    print(\n",
    "        f\"Balanced accuracy {cv_test['test_score'].mean():.4f}+-{cv_test['test_score'].std():.4f}\\n{'-' * 79}\"\n",
    "    )\n",
    "\n",
    "\n",
    "# Print a classification report for the test data\n",
    "for c in subject_clfs:\n",
    "    print_info(c, X_test, categories_test)"
   ]
  },
  {
   "cell_type": "markdown",
   "id": "6594e875",
   "metadata": {},
   "source": [
    "We can also run the classifier on arbitrary strings:"
   ]
  },
  {
   "cell_type": "code",
   "execution_count": null,
   "id": "94d5765d",
   "metadata": {},
   "outputs": [],
   "source": [
    "s = input()\n",
    "while s:\n",
    "    X: csr_matrix = vectorizer.transform([s])\n",
    "    for c in subject_clfs:\n",
    "        (predicted_class,) = c.predict(X)\n",
    "        probs = c.predict_proba(X)\n",
    "        print(\n",
    "            f\"{type(c).__name__}:\\n\\t{predicted_class}\\n\\t{' '.join(('{:.4f}'.format(x) for x in probs[0]))}\"\n",
    "        )\n",
    "        print(\"-\" * 79)\n",
    "    s = input()"
   ]
  },
  {
   "cell_type": "markdown",
   "id": "7503cae3",
   "metadata": {},
   "source": [
    "We can also attempt to classify the email bodies similarly; we will put the email body and subject line into a single bag of words.\n",
    "\n",
    "We will need to use a smaller minimum since this dataset only contains 200 emails."
   ]
  },
  {
   "cell_type": "code",
   "execution_count": null,
   "id": "5e007d90",
   "metadata": {},
   "outputs": [],
   "source": [
    "min_num_labels = 13\n",
    "(X_train, categories_train), (X_test, categories_test) = read.read_email_body(\n",
    "    min_num_labels, verbose=True, sampling=sampling\n",
    ")"
   ]
  },
  {
   "cell_type": "code",
   "execution_count": null,
   "id": "661f2742",
   "metadata": {},
   "outputs": [],
   "source": [
    "body_clfs = [SGDClassifier()]\n",
    "for c in body_clfs:\n",
    "    c.fit(X_train, categories_train)"
   ]
  },
  {
   "cell_type": "code",
   "execution_count": null,
   "id": "606c74ff",
   "metadata": {},
   "outputs": [],
   "source": [
    "for c in body_clfs:\n",
    "    print_info(c, X_test, categories_test)"
   ]
  },
  {
   "cell_type": "code",
   "execution_count": null,
   "id": "52b675b4",
   "metadata": {},
   "outputs": [],
   "source": []
  }
 ],
 "metadata": {
  "kernelspec": {
   "display_name": "Python 3 (ipykernel)",
   "language": "python",
   "name": "python3"
  },
  "language_info": {
   "codemirror_mode": {
    "name": "ipython",
    "version": 3
   },
   "file_extension": ".py",
   "mimetype": "text/x-python",
   "name": "python",
   "nbconvert_exporter": "python",
   "pygments_lexer": "ipython3",
   "version": "3.8.5"
  }
 },
 "nbformat": 4,
 "nbformat_minor": 5
}
